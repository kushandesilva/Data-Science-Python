{
 "cells": [
  {
   "cell_type": "code",
   "execution_count": 1,
   "metadata": {},
   "outputs": [
    {
     "data": {
      "text/plain": [
       "int"
      ]
     },
     "execution_count": 1,
     "metadata": {},
     "output_type": "execute_result"
    }
   ],
   "source": [
    "universe=42\n",
    "type(universe)"
   ]
  },
  {
   "cell_type": "code",
   "execution_count": 2,
   "metadata": {},
   "outputs": [
    {
     "data": {
      "text/plain": [
       "float"
      ]
     },
     "execution_count": 2,
     "metadata": {},
     "output_type": "execute_result"
    }
   ],
   "source": [
    "universe2=42.0\n",
    "type(universe2)"
   ]
  },
  {
   "cell_type": "code",
   "execution_count": 3,
   "metadata": {},
   "outputs": [
    {
     "data": {
      "text/plain": [
       "str"
      ]
     },
     "execution_count": 3,
     "metadata": {},
     "output_type": "execute_result"
    }
   ],
   "source": [
    "string1='String with single quotes'\n",
    "string2=\"String with dual quotes\"\n",
    "type(string2)"
   ]
  },
  {
   "cell_type": "code",
   "execution_count": 4,
   "metadata": {},
   "outputs": [
    {
     "name": "stdout",
     "output_type": "stream",
     "text": [
      "String with dual quotes\n"
     ]
    }
   ],
   "source": [
    "print(string2)"
   ]
  },
  {
   "cell_type": "code",
   "execution_count": 5,
   "metadata": {},
   "outputs": [
    {
     "name": "stdout",
     "output_type": "stream",
     "text": [
      "Norwegian Blue\n"
     ]
    }
   ],
   "source": [
    "#Concatenation of strings can be achieved with the + symbol\n",
    "dead, parrot=\"Norwegian\", \"Blue\"\n",
    "print(dead + ' ' + parrot)"
   ]
  },
  {
   "cell_type": "code",
   "execution_count": 6,
   "metadata": {},
   "outputs": [
    {
     "name": "stdout",
     "output_type": "stream",
     "text": [
      "The real part is 2.0, the imaginary part is 3.0\n"
     ]
    }
   ],
   "source": [
    "#in Python, imaginary number i is denoted with the letter j\n",
    "#complex numbers\n",
    "z = 2 + 3j\n",
    "print('The real part is {0}, \\\n",
    "the imaginary part is {1}' \\\n",
    "      .format(z.real, z.imag))\n"
   ]
  },
  {
   "cell_type": "code",
   "execution_count": 7,
   "metadata": {},
   "outputs": [
    {
     "name": "stdout",
     "output_type": "stream",
     "text": [
      "1\n",
      "[3.14, 2.78]\n"
     ]
    }
   ],
   "source": [
    "#strings\n",
    "numbers = [ 1, 3.14, 2.78, 1.61]\n",
    "expect = [\"Spanish\", \"Inquisition\"]\n",
    "mixed = [10, 8.0, 'spam', 0, 'eggs']\n",
    "print(numbers[0])\n",
    "print(numbers[1:3])\n",
    "#Indexing in Python starts at zero.\n",
    "#Slicing refers to the subsetting of an array-like object such as lists and tuples."
   ]
  },
  {
   "cell_type": "code",
   "execution_count": 8,
   "metadata": {},
   "outputs": [
    {
     "name": "stdout",
     "output_type": "stream",
     "text": [
      "['nobody', 'Inquisition']\n"
     ]
    }
   ],
   "source": [
    "#We are able to change the elements of a list because they are mutable objects.\n",
    "expect[0] = 'nobody'\n",
    "print(expect)"
   ]
  },
  {
   "cell_type": "code",
   "execution_count": 9,
   "metadata": {},
   "outputs": [
    {
     "name": "stdout",
     "output_type": "stream",
     "text": [
      "[1, 3.14, 2.78, 1.61, 1.4142]\n"
     ]
    }
   ],
   "source": [
    "#append lets us add elements to a list.\n",
    "numbers.append(1.4142)\n",
    "print(numbers)"
   ]
  },
  {
   "cell_type": "code",
   "execution_count": 10,
   "metadata": {},
   "outputs": [
    {
     "name": "stdout",
     "output_type": "stream",
     "text": [
      "[1, 3.14, 2.78, 1.61, 1.4142, 'nobody', 'Inquisition']\n"
     ]
    }
   ],
   "source": [
    "#The + symbol lets us carry out list concatenation.\n",
    "print(numbers + expect)"
   ]
  },
  {
   "cell_type": "code",
   "execution_count": 11,
   "metadata": {},
   "outputs": [
    {
     "name": "stdout",
     "output_type": "stream",
     "text": [
      "[3, 6, 9, 2, 78, 1, 330, 587, 19]\n",
      "[1, 2, 3, 6, 9, 19, 78, 330, 587]\n"
     ]
    }
   ],
   "source": [
    "#The sort method allows us to sort a list in place.\n",
    "List1 = [3, 6, 9, 2, 78, 1, 330, 587, 19]\n",
    "print(List1)\n",
    "List1.sort()\n",
    "print(List1)"
   ]
  },
  {
   "cell_type": "code",
   "execution_count": 12,
   "metadata": {},
   "outputs": [
    {
     "name": "stdout",
     "output_type": "stream",
     "text": [
      "[1, 2, 3, 6, 9, 19, 78, 330, 587]\n",
      "[3, 6, 9, 2, 78, 1, 330, 587, 19]\n"
     ]
    }
   ],
   "source": [
    "#Lists have a sorted function.\n",
    "List1 = [3, 6, 9, 2, 78, 1, 330, 587, 19]\n",
    "print(sorted(List1))\n",
    "print(List1)\n",
    "#The sorted function creates a new object with the elements of the original list, but in ascending order."
   ]
  },
  {
   "cell_type": "code",
   "execution_count": 13,
   "metadata": {},
   "outputs": [
    {
     "name": "stdout",
     "output_type": "stream",
     "text": [
      "[587, 330, 78, 19, 9, 6, 3, 2, 1]\n"
     ]
    }
   ],
   "source": [
    "sorted(List1, reverse=True)\n",
    "List1.sort(reverse=True)\n",
    "print(List1)"
   ]
  },
  {
   "cell_type": "code",
   "execution_count": 14,
   "metadata": {},
   "outputs": [
    {
     "name": "stdout",
     "output_type": "stream",
     "text": [
      "List comprehension is useful\n"
     ]
    }
   ],
   "source": [
    "#list comprehension\n",
    "sentence = 'List comprehension is useful'\n",
    "print(sentence)"
   ]
  },
  {
   "cell_type": "code",
   "execution_count": 15,
   "metadata": {},
   "outputs": [
    {
     "name": "stdout",
     "output_type": "stream",
     "text": [
      "[['LIST', 'list', 4], ['COMPREHENSION', 'comprehension', 13], ['IS', 'is', 2], ['USEFUL', 'useful', 6]]\n"
     ]
    }
   ],
   "source": [
    "#We are using the string methods split(), upper() and lower() to separate the words in the sentence, \n",
    "#and convert them to upper- and lower-case.\n",
    "words = [[word.upper(), word.lower(), \\\n",
    "len(word)] for word in sentence.split()]\n",
    "print(words)"
   ]
  },
  {
   "cell_type": "code",
   "execution_count": 16,
   "metadata": {},
   "outputs": [
    {
     "data": {
      "text/plain": [
       "(10, 8.0, 'spam')"
      ]
     },
     "execution_count": 16,
     "metadata": {},
     "output_type": "execute_result"
    }
   ],
   "source": [
    "#Tuples are immutable objects.\n",
    "numbers_tuple = (1, 3.14, 2.78, 1.61)\n",
    "expect_tuple = (\"Spanish\", \"Inquisition\")\n",
    "mixed_tuple = (10, 8.0, 'spam', 0, 'eggs')\n",
    "mixed_tuple[4]\n",
    "mixed_tuple[0:3]"
   ]
  },
  {
   "cell_type": "code",
   "execution_count": 17,
   "metadata": {},
   "outputs": [
    {
     "name": "stdout",
     "output_type": "stream",
     "text": [
      "(3, 60, 18, 276, 87, 0, 9, 4500, 67)\n"
     ]
    }
   ],
   "source": [
    "Tuple1 = (3, 60, 18, 276, 87, 0, 9, 4500, 67)\n",
    "print(Tuple1)"
   ]
  },
  {
   "cell_type": "code",
   "execution_count": 18,
   "metadata": {},
   "outputs": [
    {
     "name": "stdout",
     "output_type": "stream",
     "text": [
      "[0, 3, 9, 18, 60, 67, 87, 276, 4500]\n"
     ]
    },
    {
     "data": {
      "text/plain": [
       "list"
      ]
     },
     "execution_count": 18,
     "metadata": {},
     "output_type": "execute_result"
    }
   ],
   "source": [
    "print(sorted(Tuple1))\n",
    "type(sorted(Tuple1))"
   ]
  },
  {
   "cell_type": "code",
   "execution_count": 19,
   "metadata": {},
   "outputs": [
    {
     "name": "stdout",
     "output_type": "stream",
     "text": [
      "{'eggs': 1, 'sausage': 2, 'bacon': 3, 'spam': 4}\n"
     ]
    }
   ],
   "source": [
    "#Dictionaries\n",
    "#Defined with curly brackets\n",
    "#In the analogy with actual dictionaries, keys are equivalent to words and values are the definitions.\n",
    "#The keys can be any immutable object: numbers, strings or tuples for example.\n",
    "\n",
    "dictio = {\"eggs\":1, \"sausage\":2,\\\n",
    "\"bacon\":3, \"spam\":4}\n",
    "print(dictio)\n"
   ]
  },
  {
   "cell_type": "code",
   "execution_count": 20,
   "metadata": {},
   "outputs": [
    {
     "name": "stdout",
     "output_type": "stream",
     "text": [
      "4\n"
     ]
    }
   ],
   "source": [
    "print(dictio['spam'])"
   ]
  },
  {
   "cell_type": "code",
   "execution_count": 21,
   "metadata": {},
   "outputs": [
    {
     "name": "stdout",
     "output_type": "stream",
     "text": [
      "Urggh\n"
     ]
    }
   ],
   "source": [
    "#The values in a dictionary can be modified.\n",
    "dictio['spam']= 'Urggh'\n",
    "print(dictio['spam'])"
   ]
  },
  {
   "cell_type": "code",
   "execution_count": 22,
   "metadata": {},
   "outputs": [
    {
     "name": "stdout",
     "output_type": "stream",
     "text": [
      "Lovely spam\n"
     ]
    }
   ],
   "source": [
    "#The modification can be done as many times as required.\n",
    "dictio['spam']= 'Lovely spam'\n",
    "print(dictio['spam'])"
   ]
  },
  {
   "cell_type": "code",
   "execution_count": 23,
   "metadata": {},
   "outputs": [
    {
     "name": "stdout",
     "output_type": "stream",
     "text": [
      "dict_keys(['eggs', 'sausage', 'bacon', 'spam'])\n",
      "dict_values([1, 2, 3, 'Lovely spam'])\n"
     ]
    }
   ],
   "source": [
    "#A list of dictionary keys can be obtained with the keys() method. \n",
    "#Similarly, values() returns a list of values in a dictionary.\n",
    "print(dictio.keys())\n",
    "print(dictio.values())"
   ]
  },
  {
   "cell_type": "code",
   "execution_count": 24,
   "metadata": {},
   "outputs": [
    {
     "name": "stdout",
     "output_type": "stream",
     "text": [
      "dict_items([('eggs', 1), ('sausage', 2), ('bacon', 3), ('spam', 'Lovely spam')])\n"
     ]
    }
   ],
   "source": [
    "print(dictio.items())"
   ]
  },
  {
   "cell_type": "code",
   "execution_count": 25,
   "metadata": {},
   "outputs": [
    {
     "name": "stdout",
     "output_type": "stream",
     "text": [
      "{'eggs': 1, 'sausage': 2, 'spam': 'Lovely spam'}\n"
     ]
    }
   ],
   "source": [
    "#We can remove entries from a dictionary with del.\n",
    "del dictio['bacon']\n",
    "print(dictio)"
   ]
  },
  {
   "cell_type": "code",
   "execution_count": 26,
   "metadata": {},
   "outputs": [
    {
     "name": "stdout",
     "output_type": "stream",
     "text": [
      "Such a youngster\n"
     ]
    }
   ],
   "source": [
    "#Whitespace is a meaningful character in Python\n",
    "#The if... elif... else... lets us test various conditions and create branches for our code.\n",
    "#The conditions to test are logical expression that evaluate to True or False.\n",
    "Age = 40\n",
    "if Age > 50:\n",
    "    print('A wise person')\n",
    "else:\n",
    "    print('Such a youngster')"
   ]
  },
  {
   "cell_type": "code",
   "execution_count": 27,
   "metadata": {},
   "outputs": [
    {
     "name": "stdout",
     "output_type": "stream",
     "text": [
      "10\n",
      "9\n",
      "8\n",
      "7\n",
      "6\n",
      "5\n",
      "4\n",
      "3\n",
      "2\n",
      "1\n",
      "0\n"
     ]
    }
   ],
   "source": [
    "#A for loop is useful when we know how many times the code needs to be repeated.\n",
    "countdown_list = [10, 9, 8, 7, 6, \\\n",
    "                  5, 4, 3, 2, 1, 0]\n",
    "for x in countdown_list:\n",
    "    print(x)"
   ]
  },
  {
   "cell_type": "code",
   "execution_count": 28,
   "metadata": {},
   "outputs": [
    {
     "name": "stdout",
     "output_type": "stream",
     "text": [
      "10\n",
      "9\n",
      "8\n",
      "7\n",
      "6\n",
      "5\n",
      "4\n",
      "3\n",
      "2\n",
      "1\n",
      "0\n"
     ]
    }
   ],
   "source": [
    "for x in range(10,-1,-1):\n",
    "    print(x)"
   ]
  },
  {
   "cell_type": "code",
   "execution_count": 31,
   "metadata": {},
   "outputs": [
    {
     "name": "stdout",
     "output_type": "stream",
     "text": [
      "The reciprocal of 3 is 0.3333333333333333\n",
      "The reciprocal of 2 is 0.5\n",
      "The reciprocal of 1 is 1.0\n",
      "Divide by zero?     You can’t do that!!\n"
     ]
    }
   ],
   "source": [
    "try:\n",
    "    for x in range(3,-1,-1):\n",
    "        print(\"The reciprocal of {0} is {1}\".\\\n",
    "        format(x, 1.0/x))\n",
    "except ZeroDivisionError:\n",
    "    print(\"Divide by zero? \\\n",
    "    You can’t do that!!\")"
   ]
  },
  {
   "cell_type": "code",
   "execution_count": 38,
   "metadata": {},
   "outputs": [
    {
     "name": "stdout",
     "output_type": "stream",
     "text": [
      "40\n",
      "42.4\n"
     ]
    }
   ],
   "source": [
    "#functions\n",
    "def rect_area(a, b=1.0):\n",
    "    '''Calculate the area of a rectangle'''\n",
    "    return a*b\n",
    "\n",
    "c = rect_area(20, 2)\n",
    "print(c)\n",
    "\n",
    "c2 = rect_area(42.4)\n",
    "print(c2)"
   ]
  },
  {
   "cell_type": "code",
   "execution_count": 40,
   "metadata": {},
   "outputs": [],
   "source": [
    "def factorial(n):\n",
    "    '''Return the factorial of n'''\n",
    "    f = 1\n",
    "    if n<=1:\n",
    "        return f\n",
    "    else:\n",
    "        while n>0:\n",
    "            f *= n\n",
    "            n -= 1\n",
    "        return f"
   ]
  },
  {
   "cell_type": "code",
   "execution_count": 41,
   "metadata": {},
   "outputs": [
    {
     "name": "stdout",
     "output_type": "stream",
     "text": [
      "1\n"
     ]
    }
   ],
   "source": [
    "print(factorial(-3))"
   ]
  },
  {
   "cell_type": "code",
   "execution_count": 42,
   "metadata": {},
   "outputs": [
    {
     "name": "stdout",
     "output_type": "stream",
     "text": [
      "120\n"
     ]
    }
   ],
   "source": [
    "print(factorial(5))"
   ]
  },
  {
   "cell_type": "code",
   "execution_count": 45,
   "metadata": {},
   "outputs": [],
   "source": [
    "x = [1, 3, 6]\n",
    "g = lambda n: n**3"
   ]
  },
  {
   "cell_type": "code",
   "execution_count": 44,
   "metadata": {},
   "outputs": [
    {
     "data": {
      "text/plain": [
       "[1, 27, 216]"
      ]
     },
     "execution_count": 44,
     "metadata": {},
     "output_type": "execute_result"
    }
   ],
   "source": [
    "[g(item) for item in x]"
   ]
  },
  {
   "cell_type": "code",
   "execution_count": 50,
   "metadata": {},
   "outputs": [],
   "source": [
    "import math\n",
    "def area_circ(r):\n",
    "    return math.pi * r**2\n",
    "\n"
   ]
  },
  {
   "cell_type": "code",
   "execution_count": 51,
   "metadata": {},
   "outputs": [
    {
     "name": "stdout",
     "output_type": "stream",
     "text": [
      "The area of a circle withradius 3 is 28.274333882308138\n"
     ]
    }
   ],
   "source": [
    "r=3\n",
    "Area = area_circ(r)\n",
    "print(\"The area of a circle with\" \\\n",
    "      \"radius {0} is {1}\".format(r, Area))"
   ]
  },
  {
   "cell_type": "code",
   "execution_count": 53,
   "metadata": {},
   "outputs": [
    {
     "data": {
      "text/plain": [
       "array([21, 32, 43, 54, 65])"
      ]
     },
     "execution_count": 53,
     "metadata": {},
     "output_type": "execute_result"
    }
   ],
   "source": [
    "import numpy as np\n",
    "A = np.array([1, 2, 3, 4, 5])\n",
    "B = np.array([20, 30, 40, 50, 60])\n",
    "C = A + B\n",
    "C"
   ]
  },
  {
   "cell_type": "code",
   "execution_count": 54,
   "metadata": {},
   "outputs": [
    {
     "data": {
      "text/plain": [
       "matrix([[-28. ,  20.2],\n",
       "        [-51. ,  25. ]])"
      ]
     },
     "execution_count": 54,
     "metadata": {},
     "output_type": "execute_result"
    }
   ],
   "source": [
    "M1 = np.matrix([[2, 3], [-1, 5]])\n",
    "M2 = np.matrix([[1, 2], [-10, 5.4]])\n",
    "M1 * M2"
   ]
  },
  {
   "cell_type": "code",
   "execution_count": 55,
   "metadata": {},
   "outputs": [
    {
     "data": {
      "text/plain": [
       "matrix([[  1. , -10. ],\n",
       "        [  2. ,   5.4]])"
      ]
     },
     "execution_count": 55,
     "metadata": {},
     "output_type": "execute_result"
    }
   ],
   "source": [
    "M2.transpose()"
   ]
  },
  {
   "cell_type": "code",
   "execution_count": 57,
   "metadata": {},
   "outputs": [
    {
     "name": "stdout",
     "output_type": "stream",
     "text": [
      "[[-4.4408921e-16]\n",
      " [ 1.0000000e+00]]\n"
     ]
    }
   ],
   "source": [
    "from numpy import array, dot\n",
    "from scipy import linalg\n",
    "\n",
    "x = array([[1, 1], [1, 2], [1, 3], [1, 4]])\n",
    "y = array([[1], [2], [3], [4]])\n",
    "n = linalg.inv(dot(x.T, x))\n",
    "k = dot(x.T, y)\n",
    "coef = dot(n,k)\n",
    "print(coef)\n"
   ]
  },
  {
   "cell_type": "code",
   "execution_count": 58,
   "metadata": {},
   "outputs": [
    {
     "name": "stdout",
     "output_type": "stream",
     "text": [
      "[2 3 4 5]\n",
      "[1 4 7]\n"
     ]
    }
   ],
   "source": [
    "a = np.arange(10)\n",
    "print(a[2:6]); print(a[1:9:3])"
   ]
  },
  {
   "cell_type": "code",
   "execution_count": 59,
   "metadata": {},
   "outputs": [
    {
     "name": "stdout",
     "output_type": "stream",
     "text": [
      "(2, 4)\n"
     ]
    }
   ],
   "source": [
    "b = np.array([np.arange(4),2*np.arange(4)])\n",
    "print(b.shape)"
   ]
  },
  {
   "cell_type": "code",
   "execution_count": 60,
   "metadata": {},
   "outputs": [
    {
     "name": "stdout",
     "output_type": "stream",
     "text": [
      "[[0 1 2 3]]\n"
     ]
    }
   ],
   "source": [
    "print(b[:1, :])"
   ]
  },
  {
   "cell_type": "code",
   "execution_count": 61,
   "metadata": {},
   "outputs": [],
   "source": [
    "import numpy as np\n",
    "import pandas as pd\n",
    "array1 = np.array([14.1, 15.2, 16.3])\n",
    "series1 = pd.Series(array1)"
   ]
  },
  {
   "cell_type": "code",
   "execution_count": 62,
   "metadata": {},
   "outputs": [],
   "source": [
    "features = {'limbs':[0,4,4,4,8],\\\n",
    "        'herbivore':['No','No','Yes','Yes','No']}\n",
    "\n",
    "animals = ['Python', 'Iberian Lynx',\\\n",
    "        'Giant Panda', 'Field Mouse', 'Octopus']\n",
    "\n",
    "df = pd.DataFrame(features, index=animals)"
   ]
  },
  {
   "cell_type": "code",
   "execution_count": 63,
   "metadata": {},
   "outputs": [
    {
     "data": {
      "text/html": [
       "<div>\n",
       "<style scoped>\n",
       "    .dataframe tbody tr th:only-of-type {\n",
       "        vertical-align: middle;\n",
       "    }\n",
       "\n",
       "    .dataframe tbody tr th {\n",
       "        vertical-align: top;\n",
       "    }\n",
       "\n",
       "    .dataframe thead th {\n",
       "        text-align: right;\n",
       "    }\n",
       "</style>\n",
       "<table border=\"1\" class=\"dataframe\">\n",
       "  <thead>\n",
       "    <tr style=\"text-align: right;\">\n",
       "      <th></th>\n",
       "      <th>limbs</th>\n",
       "      <th>herbivore</th>\n",
       "    </tr>\n",
       "  </thead>\n",
       "  <tbody>\n",
       "    <tr>\n",
       "      <th>Python</th>\n",
       "      <td>0</td>\n",
       "      <td>No</td>\n",
       "    </tr>\n",
       "    <tr>\n",
       "      <th>Iberian Lynx</th>\n",
       "      <td>4</td>\n",
       "      <td>No</td>\n",
       "    </tr>\n",
       "    <tr>\n",
       "      <th>Giant Panda</th>\n",
       "      <td>4</td>\n",
       "      <td>Yes</td>\n",
       "    </tr>\n",
       "  </tbody>\n",
       "</table>\n",
       "</div>"
      ],
      "text/plain": [
       "              limbs herbivore\n",
       "Python            0        No\n",
       "Iberian Lynx      4        No\n",
       "Giant Panda       4       Yes"
      ]
     },
     "execution_count": 63,
     "metadata": {},
     "output_type": "execute_result"
    }
   ],
   "source": [
    "df.head(3)"
   ]
  },
  {
   "cell_type": "code",
   "execution_count": 64,
   "metadata": {},
   "outputs": [
    {
     "data": {
      "text/plain": [
       "Giant Panda    4\n",
       "Field Mouse    4\n",
       "Octopus        8\n",
       "Name: limbs, dtype: int64"
      ]
     },
     "execution_count": 64,
     "metadata": {},
     "output_type": "execute_result"
    }
   ],
   "source": [
    "df['limbs'][2:5]"
   ]
  },
  {
   "cell_type": "code",
   "execution_count": 65,
   "metadata": {},
   "outputs": [
    {
     "data": {
      "text/plain": [
       "limbs         0\n",
       "herbivore    No\n",
       "Name: Python, dtype: object"
      ]
     },
     "execution_count": 65,
     "metadata": {},
     "output_type": "execute_result"
    }
   ],
   "source": [
    "df.loc['Python']"
   ]
  },
  {
   "cell_type": "code",
   "execution_count": 66,
   "metadata": {},
   "outputs": [
    {
     "data": {
      "text/plain": [
       "count    5.000000\n",
       "mean     4.000000\n",
       "std      2.828427\n",
       "min      0.000000\n",
       "25%      4.000000\n",
       "50%      4.000000\n",
       "75%      4.000000\n",
       "max      8.000000\n",
       "Name: limbs, dtype: float64"
      ]
     },
     "execution_count": 66,
     "metadata": {},
     "output_type": "execute_result"
    }
   ],
   "source": [
    "df['limbs'].describe()"
   ]
  },
  {
   "cell_type": "code",
   "execution_count": 67,
   "metadata": {},
   "outputs": [
    {
     "data": {
      "text/plain": [
       "count      5\n",
       "unique     2\n",
       "top       No\n",
       "freq       3\n",
       "Name: herbivore, dtype: object"
      ]
     },
     "execution_count": 67,
     "metadata": {},
     "output_type": "execute_result"
    }
   ],
   "source": [
    "df['herbivore'].describe()"
   ]
  },
  {
   "cell_type": "code",
   "execution_count": 68,
   "metadata": {},
   "outputs": [],
   "source": [
    "df['class']=['reptile','mammal','mammal',\\\n",
    "             'mammal','mollusc']"
   ]
  },
  {
   "cell_type": "code",
   "execution_count": 69,
   "metadata": {},
   "outputs": [
    {
     "data": {
      "text/plain": [
       "{'No': Index(['Python', 'Iberian Lynx', 'Octopus'], dtype='object'),\n",
       " 'Yes': Index(['Giant Panda', 'Field Mouse'], dtype='object')}"
      ]
     },
     "execution_count": 69,
     "metadata": {},
     "output_type": "execute_result"
    }
   ],
   "source": [
    "grouped = df['class'].groupby(df['herbivore'])\n",
    "grouped.groups"
   ]
  },
  {
   "cell_type": "code",
   "execution_count": 70,
   "metadata": {},
   "outputs": [
    {
     "data": {
      "text/plain": [
       "herbivore\n",
       "No     3\n",
       "Yes    2\n",
       "Name: class, dtype: int64"
      ]
     },
     "execution_count": 70,
     "metadata": {},
     "output_type": "execute_result"
    }
   ],
   "source": [
    "grouped.size()"
   ]
  },
  {
   "cell_type": "code",
   "execution_count": 71,
   "metadata": {},
   "outputs": [
    {
     "name": "stdout",
     "output_type": "stream",
     "text": [
      "herbivore\n",
      "No     4\n",
      "Yes    4\n",
      "Name: limbs, dtype: int64\n"
     ]
    }
   ],
   "source": [
    "from numpy import mean\n",
    "limbs = df['limbs'].groupby(df['herbivore'])\\\n",
    ".aggregate(mean)\n",
    "print(limbs)"
   ]
  },
  {
   "cell_type": "code",
   "execution_count": 72,
   "metadata": {},
   "outputs": [],
   "source": [
    "import numpy as np\n",
    "import matplotlib.pyplot as plt\n",
    "from pylab import *"
   ]
  },
  {
   "cell_type": "code",
   "execution_count": 73,
   "metadata": {},
   "outputs": [],
   "source": [
    "x = np.linspace(-5, 5, 200)\n",
    "y1 = x**2\n",
    "y2 = x**3"
   ]
  },
  {
   "cell_type": "code",
   "execution_count": 74,
   "metadata": {},
   "outputs": [
    {
     "data": {
      "image/png": "[encoded data removed]",
      "text/plain": [
       "<Figure size 432x288 with 1 Axes>"
      ]
     },
     "metadata": {
      "needs_background": "light"
     },
     "output_type": "display_data"
    }
   ],
   "source": [
    "fig, ax = plt.subplots()\n",
    "ax.plot(x, y1, 'r',\\\n",
    "    label=r\"$y_1 = x^2$\", linewidth=2)\n",
    "ax.plot(x, y2, 'k--',\\\n",
    "    label=r\"$y_2 = x^3$\", linewidth=2)\n",
    "ax.legend(loc=2) # upper left corner\n",
    "ax.set_xlabel(r'$x$', fontsize=18)\n",
    "ax.set_ylabel(r'$y$', fontsize=18)\n",
    "ax.set_title('My Figure')\n",
    "plt.show()"
   ]
  },
  {
   "cell_type": "code",
   "execution_count": 76,
   "metadata": {},
   "outputs": [],
   "source": [
    "fig.savefig('firstplot.png')"
   ]
  },
  {
   "cell_type": "code",
   "execution_count": null,
   "metadata": {},
   "outputs": [],
   "source": []
  }
 ],
 "metadata": {
  "kernelspec": {
   "display_name": "Python 3",
   "language": "python",
   "name": "python3"
  },
  "language_info": {
   "codemirror_mode": {
    "name": "ipython",
    "version": 3
   },
   "file_extension": ".py",
   "mimetype": "text/x-python",
   "name": "python",
   "nbconvert_exporter": "python",
   "pygments_lexer": "ipython3",
   "version": "3.7.0"
  }
 },
 "nbformat": 4,
 "nbformat_minor": 2
}
